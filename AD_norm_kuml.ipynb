{
 "cells": [
  {
   "cell_type": "code",
   "execution_count": 1,
   "metadata": {},
   "outputs": [
    {
     "data": {
      "application/vnd.jupyter.widget-view+json": {
       "model_id": "693aef083904488f985611ca37c6d10b",
       "version_major": 2,
       "version_minor": 0
      },
      "text/plain": [
       "Text(value='', description='Input Probabilities:')"
      ]
     },
     "metadata": {},
     "output_type": "display_data"
    },
    {
     "data": {
      "application/vnd.jupyter.widget-view+json": {
       "model_id": "41b8f16186ae45d3bbbe45ea15eb6fa9",
       "version_major": 2,
       "version_minor": 0
      },
      "text/plain": [
       "Button(description='Parse Input', style=ButtonStyle())"
      ]
     },
     "metadata": {},
     "output_type": "display_data"
    },
    {
     "data": {
      "application/vnd.jupyter.widget-view+json": {
       "model_id": "8cf2fe8964cf479d8a0baf61a387a5a0",
       "version_major": 2,
       "version_minor": 0
      },
      "text/plain": [
       "Output()"
      ]
     },
     "metadata": {},
     "output_type": "display_data"
    }
   ],
   "source": [
    "from ipywidgets import widgets\n",
    "from IPython.display import display, clear_output\n",
    "\n",
    "# Create a Text widget for input\n",
    "input_widget = widgets.Text(value='', description='Input Probabilities:')\n",
    "display(input_widget)\n",
    "\n",
    "# Create a button to parse the input\n",
    "parse_button = widgets.Button(description='Parse Input')\n",
    "display(parse_button)\n",
    "\n",
    "# Create an output widget to display the parsed probabilities\n",
    "output_widget = widgets.Output()\n",
    "display(output_widget)\n",
    "\n",
    "def parse_input(input_str):\n",
    "    try:\n",
    "        # Try to parse input as fractions\n",
    "        fractions = input_str.split(',')\n",
    "        probabilities = []\n",
    "        for fraction_str in fractions:\n",
    "            numerator, denominator = map(int, fraction_str.strip().split('/'))\n",
    "            probability = numerator / denominator\n",
    "            probabilities.append(probability)\n",
    "        return probabilities\n",
    "    except ValueError:\n",
    "        try:\n",
    "            # Try to parse input as decimal numbers\n",
    "            decimals = input_str.split(',')\n",
    "            probabilities = [float(decimal_str.strip()) for decimal_str in decimals]\n",
    "            return probabilities\n",
    "        except ValueError:\n",
    "            return None\n",
    "\n",
    "def parse_button_clicked(b):\n",
    "    input_str = input_widget.value\n",
    "    probabilities = parse_input(input_str)\n",
    "    with output_widget:\n",
    "        clear_output()\n",
    "        if probabilities is not None:\n",
    "            print(\"Parsed Probabilities:\", probabilities)\n",
    "        else:\n",
    "            print(\"Invalid input. Please enter probabilities as fractions (e.g., '1/9, 2/9, 4/9, 2/9') or decimals (e.g., '0.1111, 0.2222, 0.4444, 0.2222').\")\n",
    "\n",
    "parse_button.on_click(parse_button_clicked)"
   ]
  },
  {
   "cell_type": "code",
   "execution_count": 42,
   "metadata": {},
   "outputs": [
    {
     "name": "stdout",
     "output_type": "stream",
     "text": [
      "First Element: 1\n",
      "Middle Element: 2\n",
      "Middle Element: 3\n",
      "Middle Element: 4\n",
      "Last Element: 5\n"
     ]
    }
   ],
   "source": [
    "my_array = [1, 2, 3, 4, 5]\n",
    "\n",
    "for index, value in enumerate(my_array):\n",
    "    if index == 0:\n",
    "        # This is the first element\n",
    "        # Do something different for the first element\n",
    "        print(f\"First Element: {value}\")\n",
    "    elif index == len(my_array) - 1:\n",
    "        # This is the last element\n",
    "        # Do something different for the last element\n",
    "        print(f\"Last Element: {value}\")\n",
    "    else:\n",
    "        # This is a middle element\n",
    "        # Do something for all other elements\n",
    "        print(f\"Middle Element: {value}\")"
   ]
  },
  {
   "cell_type": "code",
   "execution_count": 43,
   "metadata": {},
   "outputs": [
    {
     "name": "stdout",
     "output_type": "stream",
     "text": [
      "Index: 0, Element from array1: 1, Element from array2: a\n",
      "Index: 1, Element from array1: 2, Element from array2: b\n",
      "Index: 2, Element from array1: 3, Element from array2: c\n",
      "Index: 3, Element from array1: 4, Element from array2: d\n",
      "Index: 4, Element from array1: 5, Element from array2: e\n"
     ]
    }
   ],
   "source": [
    "array1 = [1, 2, 3, 4, 5]\n",
    "array2 = ['a', 'b', 'c', 'd', 'e']\n",
    "\n",
    "for index, (element1, element2) in enumerate(zip(array1, array2)):\n",
    "    print(f\"Index: {index}, Element from array1: {element1}, Element from array2: {element2}\")"
   ]
  },
  {
   "cell_type": "code",
   "execution_count": 44,
   "metadata": {},
   "outputs": [
    {
     "name": "stdout",
     "output_type": "stream",
     "text": [
      "Sum of element*log2(element) for the entire matrix: 114.05511244831126\n",
      "Sum by rows: [ 6.7548875  35.11941548 72.18080947]\n",
      "Sum by columns: [27.65148445 37.60964047 48.79398752]\n"
     ]
    }
   ],
   "source": [
    "import numpy as np\n",
    "\n",
    "# Create a sample 2D matrix (3x3 in this case)\n",
    "matrix = np.array([[1.0, 2.0, 3.0],\n",
    "                   [4.0, 5.0, 6.0],\n",
    "                   [7.0, 8.0, 9.0]])\n",
    "\n",
    "# Calculate the sum of element*log2(element) for the entire matrix\n",
    "result_sum = np.sum(matrix * np.log2(matrix))\n",
    "\n",
    "# Calculate the sum by rows\n",
    "sum_by_rows = np.sum(matrix * np.log2(matrix), axis=1)\n",
    "\n",
    "# Calculate the sum by columns\n",
    "sum_by_columns = np.sum(matrix * np.log2(matrix), axis=0)\n",
    "\n",
    "print(\"Sum of element*log2(element) for the entire matrix:\", result_sum)\n",
    "print(\"Sum by rows:\", sum_by_rows)\n",
    "print(\"Sum by columns:\", sum_by_columns)"
   ]
  },
  {
   "cell_type": "code",
   "execution_count": 6,
   "metadata": {},
   "outputs": [
    {
     "name": "stdout",
     "output_type": "stream",
     "text": [
      "Cumulative Probability: 0.933\n",
      "Cumulative Probability: 0.067\n",
      "Cumulative Probability: 0.067\n",
      "Cumulative Probability: 0.933\n"
     ]
    }
   ],
   "source": [
    "import scipy.stats as stats\n",
    "\n",
    "def calculate_cumulative_probability(x, vecji=False):\n",
    "    if x >= 0 and not vecji:\n",
    "        # Calculate the cumulative probability for the positive x\n",
    "        cdf_value = stats.norm.cdf(x, loc=0, scale=1)\n",
    "    elif x >= 0 and vecji:\n",
    "        # Calculate 1 - cumulative probability for the positive x\n",
    "        cdf_value = 1 - stats.norm.cdf(x, loc=0, scale=1)\n",
    "    elif x < 0 and not vecji:\n",
    "        # Calculate 1 - cumulative probability for the positive absolute value of x\n",
    "        cdf_value = 1 - stats.norm.cdf(abs(x), loc=0, scale=1)\n",
    "    elif x < 0 and vecji:\n",
    "        # Calculate the cumulative probability for the positive absolute value of x\n",
    "        cdf_value = stats.norm.cdf(abs(x), loc=0, scale=1)\n",
    "    else:\n",
    "        cdf_value = None  # Handle other cases if needed\n",
    "\n",
    "    return cdf_value\n",
    "\n",
    "# Example usage:\n",
    "x = 1.5\n",
    "invert = True\n",
    "result = calculate_cumulative_probability(x, invert)\n",
    "print(f\"Cumulative Probability: {calculate_cumulative_probability(1.5, False):.3f}\") # manjše od 1.5\n",
    "print(f\"Cumulative Probability: {calculate_cumulative_probability(1.5, True):.3f}\") # večje od 1.5\n",
    "print(f\"Cumulative Probability: {calculate_cumulative_probability(-1.5, False):.3f}\") # manjše od -1.5\n",
    "print(f\"Cumulative Probability: {calculate_cumulative_probability(-1.5, True):.3f}\") #večje od -1.5"
   ]
  },
  {
   "cell_type": "code",
   "execution_count": 7,
   "metadata": {},
   "outputs": [
    {
     "name": "stdout",
     "output_type": "stream",
     "text": [
      "Difference: 0.067\n"
     ]
    }
   ],
   "source": [
    "import math\n",
    "def calculate_difference(start, stop):\n",
    "    if math.isinf(start) and not math.isinf(stop):\n",
    "        # If start is -infinity, return result for stop value\n",
    "        result = calculate_cumulative_probability(stop)\n",
    "    elif not math.isinf(start) and math.isinf(stop):\n",
    "        # If stop is +infinity, return result for start value with invert=True\n",
    "        result = calculate_cumulative_probability(start, True)\n",
    "    elif not math.isinf(start) and not math.isinf(stop):\n",
    "        # If neither start nor stop are infinity, return the difference of results\n",
    "        result_start = calculate_cumulative_probability(start)\n",
    "        result_stop = calculate_cumulative_probability(stop,)\n",
    "        result = result_stop - result_start\n",
    "    else:\n",
    "        result = None  # Handle other cases if needed\n",
    "    \n",
    "    return result\n",
    "\n",
    "# Example usage:\n",
    "start = -math.inf\n",
    "stop = 1.5\n",
    "result = calculate_difference(1.5,4.0)\n",
    "print(f\"Difference: {result:.3f}\")"
   ]
  },
  {
   "cell_type": "code",
   "execution_count": 8,
   "metadata": {},
   "outputs": [
    {
     "name": "stdout",
     "output_type": "stream",
     "text": [
      "For x1=-1.5:\n",
      "Required Noise Range to stay between y0=-inf and y1=-1: -inf to 0.75\n",
      "Difference: 0.773\n",
      "Required Noise Range to stay between y1=-1 and y2=0: 0.75 to 1.75\n",
      "Difference: 0.187\n",
      "Required Noise Range to stay between y2=0 and y3=1: 1.75 to 2.75\n",
      "Difference: 0.037\n",
      "Required Noise Range to stay between y3=1 and y4=inf: 2.75 to inf\n",
      "Difference: 0.003\n",
      "For x2=-0.5:\n",
      "Required Noise Range to stay between y0=-inf and y1=-1: -inf to -0.25\n",
      "Difference: 0.401\n",
      "Required Noise Range to stay between y1=-1 and y2=0: -0.25 to 0.75\n",
      "Difference: 0.372\n",
      "Required Noise Range to stay between y2=0 and y3=1: 0.75 to 1.75\n",
      "Difference: 0.187\n",
      "Required Noise Range to stay between y3=1 and y4=inf: 1.75 to inf\n",
      "Difference: 0.040\n",
      "For x3=0.5:\n",
      "Required Noise Range to stay between y0=-inf and y1=-1: -inf to -1.25\n",
      "Difference: 0.106\n",
      "Required Noise Range to stay between y1=-1 and y2=0: -1.25 to -0.25\n",
      "Difference: 0.296\n",
      "Required Noise Range to stay between y2=0 and y3=1: -0.25 to 0.75\n",
      "Difference: 0.372\n",
      "Required Noise Range to stay between y3=1 and y4=inf: 0.75 to inf\n",
      "Difference: 0.227\n",
      "For x4=1.5:\n",
      "Required Noise Range to stay between y0=-inf and y1=-1: -inf to -2.25\n",
      "Difference: 0.012\n",
      "Required Noise Range to stay between y1=-1 and y2=0: -2.25 to -1.25\n",
      "Difference: 0.093\n",
      "Required Noise Range to stay between y2=0 and y3=1: -1.25 to -0.25\n",
      "Difference: 0.296\n",
      "Required Noise Range to stay between y3=1 and y4=inf: -0.25 to inf\n",
      "Difference: 0.599\n",
      "[0.7733726476231317, 0.18656819551305115, 0.03707939362876256, 0.0029797632350545555]\n",
      "[0.4012936743170763, 0.37207897330605544, 0.18656819551305115, 0.040059156863817114]\n",
      "[0.10564977366685535, 0.29564390065022095, 0.37207897330605544, 0.22662735237686826]\n",
      "[0.012224472655044671, 0.09342530101181068, 0.29564390065022095, 0.5987063256829237]\n"
     ]
    }
   ],
   "source": [
    "import numpy as np\n",
    "\n",
    "# Input values (x) and output borders (y)\n",
    "x = [-1.5, -0.5, 0.5,1.5]\n",
    "y = [-np.inf, -1, 0, 1, np.inf]  # Include +/- infinity for first and last y\n",
    "\n",
    "# Parameters for noise (average and effective value)\n",
    "noise_average = -0.25\n",
    "noise_effective = 1\n",
    "\n",
    "# Initialize lists to store results\n",
    "required_noise_ranges = []\n",
    "\n",
    "\n",
    "matrix = []\n",
    "\n",
    "\n",
    "# Calculate required noise ranges for each x to meet the conditions between all pairs of adjacent y values\n",
    "for xi in x:\n",
    "    noise_ranges_for_xi = []\n",
    "    \n",
    "    xi = xi + noise_average\n",
    "\n",
    "    for i in range(len(y) - 1):\n",
    "        noise_range_min = y[i] -xi  \n",
    "        noise_range_max = y[i+1] - xi\n",
    "        noise_ranges_for_xi.append((round(noise_range_min,3), round(noise_range_max,3)))\n",
    "        #print([noise_range_min,noise_range_max])\n",
    "    \n",
    "    # Append the list of noise ranges for xi to the overall result\n",
    "    #print(noise_ranges_for_xi)\n",
    "    required_noise_ranges.append(noise_ranges_for_xi)\n",
    "\n",
    "# Display results\n",
    "for i, xi in enumerate(x):\n",
    "    print(f\"For x{i+1}={xi}:\")\n",
    "    prob = []\n",
    "    for j, (min_noise, max_noise) in enumerate(required_noise_ranges[i]):\n",
    "        yj = y[j]\n",
    "        yj_plus_1 = y[j+1]\n",
    "        print(f\"Required Noise Range to stay between y{j}={yj} and y{j+1}={yj_plus_1}: {min_noise} to {max_noise}\")\n",
    "        result = calculate_difference(min_noise/noise_effective, max_noise/noise_effective)\n",
    "        prob.append(result)\n",
    "        print(f\"Difference: {result:.3f}\")\n",
    "    matrix.append(prob)\n",
    "for r in matrix:\n",
    "    print(r)\n",
    "#print(matrix)"
   ]
  }
 ],
 "metadata": {
  "kernelspec": {
   "display_name": "base",
   "language": "python",
   "name": "python3"
  },
  "language_info": {
   "codemirror_mode": {
    "name": "ipython",
    "version": 3
   },
   "file_extension": ".py",
   "mimetype": "text/x-python",
   "name": "python",
   "nbconvert_exporter": "python",
   "pygments_lexer": "ipython3",
   "version": "3.11.5"
  }
 },
 "nbformat": 4,
 "nbformat_minor": 2
}
