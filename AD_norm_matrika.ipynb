{
 "cells": [
  {
   "cell_type": "markdown",
   "metadata": {},
   "source": [
    "# Matrika verjetnosti za A/D pretvornik z dodanim šumom z normalno porazdelitvijo"
   ]
  },
  {
   "cell_type": "code",
   "execution_count": 15,
   "metadata": {},
   "outputs": [
    {
     "name": "stdout",
     "output_type": "stream",
     "text": [
      "For x1=-1.5:\n",
      "Jakost šuma da ostanemo med y0=-inf in y1=-1: -inf do 0.75\n",
      "Razlika: 0.773\n",
      "Jakost šuma da ostanemo med y1=-1 in y2=0: 0.75 do 1.75\n",
      "Razlika: 0.187\n",
      "Jakost šuma da ostanemo med y2=0 in y3=1: 1.75 do 2.75\n",
      "Razlika: 0.037\n",
      "Jakost šuma da ostanemo med y3=1 in y4=inf: 2.75 do inf\n",
      "Razlika: 0.003\n",
      "For x2=-0.5:\n",
      "Jakost šuma da ostanemo med y0=-inf in y1=-1: -inf do -0.25\n",
      "Razlika: 0.401\n",
      "Jakost šuma da ostanemo med y1=-1 in y2=0: -0.25 do 0.75\n",
      "Razlika: 0.372\n",
      "Jakost šuma da ostanemo med y2=0 in y3=1: 0.75 do 1.75\n",
      "Razlika: 0.187\n",
      "Jakost šuma da ostanemo med y3=1 in y4=inf: 1.75 do inf\n",
      "Razlika: 0.040\n",
      "For x3=0.5:\n",
      "Jakost šuma da ostanemo med y0=-inf in y1=-1: -inf do -1.25\n",
      "Razlika: 0.106\n",
      "Jakost šuma da ostanemo med y1=-1 in y2=0: -1.25 do -0.25\n",
      "Razlika: 0.296\n",
      "Jakost šuma da ostanemo med y2=0 in y3=1: -0.25 do 0.75\n",
      "Razlika: 0.372\n",
      "Jakost šuma da ostanemo med y3=1 in y4=inf: 0.75 do inf\n",
      "Razlika: 0.227\n",
      "For x4=1.5:\n",
      "Jakost šuma da ostanemo med y0=-inf in y1=-1: -inf do -2.25\n",
      "Razlika: 0.012\n",
      "Jakost šuma da ostanemo med y1=-1 in y2=0: -2.25 do -1.25\n",
      "Razlika: 0.093\n",
      "Jakost šuma da ostanemo med y2=0 in y3=1: -1.25 do -0.25\n",
      "Razlika: 0.296\n",
      "Jakost šuma da ostanemo med y3=1 in y4=inf: -0.25 do inf\n",
      "Razlika: 0.599\n",
      "[0.7733726476231317, 0.18656819551305115, 0.03707939362876256, 0.0029797632350545555]\n",
      "[0.4012936743170763, 0.37207897330605544, 0.18656819551305115, 0.040059156863817114]\n",
      "[0.10564977366685535, 0.29564390065022095, 0.37207897330605544, 0.22662735237686826]\n",
      "[0.012224472655044671, 0.09342530101181068, 0.29564390065022095, 0.5987063256829237]\n"
     ]
    }
   ],
   "source": [
    "import numpy as np\n",
    "\n",
    "x = [-1.5, -0.5, 0.5,1.5] # Vhodni nivoji signalov\n",
    "y = [-np.inf, -1, 0, 1, np.inf]  # Meje zaznave posameznega izhodnega simbola\n",
    "\n",
    "# Parameteri šuma\n",
    "noise_average = -0.25\n",
    "noise_effective = 1\n",
    "\n",
    "# Vmesna tabela za shranjevanje rezultatov\n",
    "required_noise_ranges = []\n",
    "matrix = []\n",
    "\n",
    "# Izračun mej jakosti šuma za vsako napako\n",
    "for xi in x:\n",
    "    noise_ranges_for_xi = []\n",
    "    \n",
    "    xi = xi + noise_average\n",
    "\n",
    "    for i in range(len(y) - 1):\n",
    "        noise_range_min = y[i] -xi  \n",
    "        noise_range_max = y[i+1] - xi\n",
    "        noise_ranges_for_xi.append((round(noise_range_min,3), round(noise_range_max,3)))\n",
    "\n",
    "    required_noise_ranges.append(noise_ranges_for_xi)\n",
    "\n",
    "# Prikaz rezultatov\n",
    "for i, xi in enumerate(x):\n",
    "    print(f\"For x{i+1}={xi}:\")\n",
    "    prob = []\n",
    "    for j, (min_noise, max_noise) in enumerate(required_noise_ranges[i]):\n",
    "        yj = y[j]\n",
    "        yj_plus_1 = y[j+1]\n",
    "        print(f\"Jakost šuma da ostanemo med y{j}={yj} in y{j+1}={yj_plus_1}: {min_noise} do {max_noise}\")\n",
    "        result = calculate_difference(min_noise/noise_effective, max_noise/noise_effective)\n",
    "        prob.append(result)\n",
    "        print(f\"Razlika: {result:.3f}\")\n",
    "    matrix.append(prob)\n",
    "for r in matrix:\n",
    "    print(r)\n",
    "#print(matrix)"
   ]
  }
 ],
 "metadata": {
  "kernelspec": {
   "display_name": "base",
   "language": "python",
   "name": "python3"
  },
  "language_info": {
   "codemirror_mode": {
    "name": "ipython",
    "version": 3
   },
   "file_extension": ".py",
   "mimetype": "text/x-python",
   "name": "python",
   "nbconvert_exporter": "python",
   "pygments_lexer": "ipython3",
   "version": "3.11.5"
  }
 },
 "nbformat": 4,
 "nbformat_minor": 2
}
