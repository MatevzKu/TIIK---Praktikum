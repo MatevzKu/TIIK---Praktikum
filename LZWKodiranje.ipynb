{
 "cells": [
  {
   "cell_type": "markdown",
   "id": "a6557c2b",
   "metadata": {},
   "source": [
    "# LZW kodiranje"
   ]
  },
  {
   "cell_type": "code",
   "execution_count": 2,
   "id": "8799ad0d",
   "metadata": {},
   "outputs": [],
   "source": [
    "def kodiraj(uncompressed,dictionary):\n",
    "    dict_size = len(dictionary)\n",
    "    w = \"\"\n",
    "    result = []\n",
    "    for c in uncompressed:\n",
    "        wc = w + c\n",
    "        if wc in dictionary: #preverim če sem kombinacijo že srečal\n",
    "            w = wc\n",
    "        else:\n",
    "            result.append(dictionary[w])\n",
    "            # Dodam v slovar.\n",
    "            dictionary[wc] = dict_size\n",
    "            dict_size += 1\n",
    "            w = c\n",
    "    # Dodam kodo v kodirano vsebino\n",
    "    if w:\n",
    "        result.append(dictionary[w])\n",
    "    print(\"Kodirni slovar:\", dictionary)\n",
    "    return result\n",
    "\n",
    "def dekodiraj(compressed,dictionary):\n",
    "    from io import StringIO\n",
    "    dict_size = len(dictionary)\n",
    "    result = StringIO()\n",
    "    w = dictionary[compressed.pop(0)]\n",
    "    result.write(w)\n",
    "    for k in compressed:\n",
    "        if k in dictionary:\n",
    "            entry = dictionary[k]\n",
    "        elif k == dict_size:\n",
    "            entry = w + w[0]\n",
    "        else:\n",
    "            raise ValueError('Napaka pri kodiranju k: %s' % k)\n",
    "        result.write(entry)\n",
    "\n",
    "        # Razširim slovar\n",
    "        dictionary[dict_size] = w + entry[0]\n",
    "        dict_size += 1\n",
    "\n",
    "        w = entry\n",
    "    print(\"Dekodirni slovar:\", dictionary)\n",
    "    return result.getvalue()"
   ]
  },
  {
   "cell_type": "code",
   "execution_count": 3,
   "id": "dc0ada01",
   "metadata": {},
   "outputs": [
    {
     "name": "stdout",
     "output_type": "stream",
     "text": [
      "Kodirni slovar: {'B': 0, 'I': 1, 'T': 2, 'N': 3, 'E': 4, 'A': 5, 'L': 6}\n",
      "Dekodirni slovar: {0: 'B', 1: 'I', 2: 'T', 3: 'N', 4: 'E', 5: 'A', 6: 'L'}\n",
      "Kodirni slovar: {'B': 0, 'I': 1, 'T': 2, 'N': 3, 'E': 4, 'A': 5, 'L': 6, 'BI': 7, 'IT': 8, 'TI': 9, 'IN': 10, 'NE': 11, 'EB': 12, 'BIT': 13, 'TIA': 14, 'AL': 15, 'LI': 16, 'IB': 17, 'BITI': 18}\n",
      "Kodirana vsebina: [0, 1, 2, 1, 3, 4, 7, 9, 5, 6, 1, 13, 1]\n",
      "Dekodirni slovar: {0: 'B', 1: 'I', 2: 'T', 3: 'N', 4: 'E', 5: 'A', 6: 'L', 7: 'BI', 8: 'IT', 9: 'TI', 10: 'IN', 11: 'NE', 12: 'EB', 13: 'BIT', 14: 'TIA', 15: 'AL', 16: 'LI', 17: 'IB', 18: 'BITI'}\n",
      "Dekodirana vsebina: BITINEBITIALIBITI\n"
     ]
    }
   ],
   "source": [
    "# How to use:\n",
    "input_string = \"BITINEBITIALIBITI\"\n",
    "\n",
    "# Initialize dictionaries\n",
    "char_to_num = {}\n",
    "num_to_char = {}\n",
    "count = 0\n",
    "\n",
    "# Iterate through the string\n",
    "for char in input_string:\n",
    "    if char not in char_to_num:\n",
    "        # If the character is not already in char_to_num, add it and assign a numerical value\n",
    "        char_to_num[char] = count\n",
    "        num_to_char[count] = char\n",
    "        count += 1\n",
    "\n",
    "# Print the dictionaries\n",
    "print(\"Kodirni slovar:\", char_to_num)\n",
    "print(\"Dekodirni slovar:\", num_to_char)\n",
    "\n",
    "compressed = kodiraj(input_string,char_to_num)\n",
    "print (\"Kodirana vsebina:\", compressed)\n",
    "decompressed = dekodiraj(compressed,num_to_char)\n",
    "print (\"Dekodirana vsebina:\", decompressed)"
   ]
  }
 ],
 "metadata": {
  "kernelspec": {
   "display_name": "base",
   "language": "python",
   "name": "python3"
  },
  "language_info": {
   "codemirror_mode": {
    "name": "ipython",
    "version": 3
   },
   "file_extension": ".py",
   "mimetype": "text/x-python",
   "name": "python",
   "nbconvert_exporter": "python",
   "pygments_lexer": "ipython3",
   "version": "3.11.5"
  }
 },
 "nbformat": 4,
 "nbformat_minor": 5
}
