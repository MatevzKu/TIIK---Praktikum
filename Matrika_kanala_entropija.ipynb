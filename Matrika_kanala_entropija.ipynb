{
 "cells": [
  {
   "cell_type": "markdown",
   "metadata": {},
   "source": [
    "# Matrika kanala, marginalne verjetnosti in entropija kanala"
   ]
  },
  {
   "cell_type": "code",
   "execution_count": 1,
   "metadata": {},
   "outputs": [
    {
     "name": "stdout",
     "output_type": "stream",
     "text": [
      "[[0.0625 0.0425 0.0225 0.1225]\n",
      " [0.1025 0.0925 0.0325 0.0525]\n",
      " [0.0725 0.0925 0.0325 0.0225]\n",
      " [0.0025 0.1025 0.0825 0.0625]]\n",
      "H_xy: 3.7576699973737875\n",
      "P_x  [0.25 0.28 0.22 0.25] in H_x: 1.9947937606110278\n",
      "P_y [0.24 0.33 0.17 0.26] in H_y: 1.9618321204841158\n",
      "[[0.25       0.17       0.09       0.49      ]\n",
      " [0.36607143 0.33035714 0.11607143 0.1875    ]\n",
      " [0.32954545 0.42045455 0.14772727 0.10227273]\n",
      " [0.01       0.41       0.33       0.25      ]]\n"
     ]
    }
   ],
   "source": [
    "import numpy as np\n",
    "from math import log2\n",
    "\n",
    "matrix = np.ones([4,4])/16\n",
    "\n",
    "count = 0\n",
    "\n",
    "while count < 20:\n",
    "\n",
    "    row = np.random.randint(matrix.shape[0])\n",
    "    col = np.random.randint(matrix.shape[1])\n",
    "    wid = matrix.shape[0]-1\n",
    "    hei = matrix.shape[1]-1\n",
    "    a_row = wid-row\n",
    "    a_col = hei-col\n",
    "    \n",
    "    change = round(np.random.rand(),2)\n",
    "    \n",
    "    if ((matrix[row][col]+change) <= 1) and ((matrix[a_row][a_col]-change) >= 0):\n",
    "        matrix[row][col] += change\n",
    "\n",
    "        matrix[a_row][a_col] -= change\n",
    "        count += 1\n",
    "\n",
    "print(matrix)\n",
    "\n",
    "# Calculate the sum of element*log2(element) for the entire matrix\n",
    "\n",
    "result_sum = -np.sum(matrix * np.log2(matrix))\n",
    "\n",
    "# Calculate the sum by rows\n",
    "p_y = np.sum(matrix,axis=0)\n",
    "sum_by_rows = -(np.sum(p_y * np.log2(p_y)))\n",
    "\n",
    "# Calculate the sum by columns\n",
    "p_X = np.sum(matrix,axis=1)\n",
    "sum_by_columns = -(np.sum(p_X * np.log2(p_X)))\n",
    "print(\"H_xy:\", result_sum)\n",
    "print(f\"P_x  {p_X} in H_x: {sum_by_columns}\")\n",
    "print(f\"P_y {p_y} in H_y: {sum_by_rows}\")\n",
    "\n",
    "P_k = matrix/p_X[:, np.newaxis]\n",
    "\n",
    "print(P_k)"
   ]
  },
  {
   "cell_type": "code",
   "execution_count": 2,
   "metadata": {},
   "outputs": [
    {
     "name": "stdout",
     "output_type": "stream",
     "text": [
      "[[0.5        1.         1.5       ]\n",
      " [1.33333333 1.66666667 2.        ]\n",
      " [1.75       2.         2.25      ]]\n"
     ]
    }
   ],
   "source": [
    "# Create a sample 2D array\n",
    "array_2d = np.array([[1, 2, 3],\n",
    "                     [4, 5, 6],\n",
    "                     [7, 8, 9]])\n",
    "\n",
    "# Create a sample 1D vector with the same number of values as rows in the array\n",
    "vector = np.array([2, 3, 4])\n",
    "\n",
    "# Perform element-wise division\n",
    "result = array_2d / vector[:, np.newaxis]\n",
    "\n",
    "# The result will be a new 2D array with each row divided by the corresponding value in the vector\n",
    "print(result)"
   ]
  }
 ],
 "metadata": {
  "kernelspec": {
   "display_name": "base",
   "language": "python",
   "name": "python3"
  },
  "language_info": {
   "codemirror_mode": {
    "name": "ipython",
    "version": 3
   },
   "file_extension": ".py",
   "mimetype": "text/x-python",
   "name": "python",
   "nbconvert_exporter": "python",
   "pygments_lexer": "ipython3",
   "version": "3.11.5"
  }
 },
 "nbformat": 4,
 "nbformat_minor": 2
}
